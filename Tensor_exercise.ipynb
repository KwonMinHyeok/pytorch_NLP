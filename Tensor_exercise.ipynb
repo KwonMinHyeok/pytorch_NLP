{
 "cells": [
  {
   "cell_type": "code",
   "execution_count": 1,
   "id": "07a7a821",
   "metadata": {},
   "outputs": [],
   "source": [
    "import numpy as np\n",
    "import torch"
   ]
  },
  {
   "cell_type": "code",
   "execution_count": 2,
   "id": "1159e7c4",
   "metadata": {},
   "outputs": [],
   "source": [
    "x = torch.Tensor(3,2).long()"
   ]
  },
  {
   "cell_type": "code",
   "execution_count": 3,
   "id": "1ecc4ec5",
   "metadata": {},
   "outputs": [
    {
     "data": {
      "text/plain": [
       "tensor([[0, 0],\n",
       "        [0, 0],\n",
       "        [0, 0]])"
      ]
     },
     "execution_count": 3,
     "metadata": {},
     "output_type": "execute_result"
    }
   ],
   "source": [
    "x"
   ]
  },
  {
   "cell_type": "code",
   "execution_count": 7,
   "id": "4c843fd3",
   "metadata": {},
   "outputs": [
    {
     "data": {
      "text/plain": [
       "tensor([[1, 1, 1],\n",
       "        [1, 1, 1],\n",
       "        [1, 1, 1]])"
      ]
     },
     "execution_count": 7,
     "metadata": {},
     "output_type": "execute_result"
    }
   ],
   "source": [
    "x = torch.ones(3,3).long()\n",
    "x"
   ]
  },
  {
   "cell_type": "code",
   "execution_count": 22,
   "id": "305fac79",
   "metadata": {},
   "outputs": [
    {
     "name": "stdout",
     "output_type": "stream",
     "text": [
      "tensor([[1, 1, 1, 1, 1, 1, 1, 1, 1]]) torch.Size([1, 9])\n"
     ]
    }
   ],
   "source": [
    "x = x.view(1,-1)\n",
    "print(x,x.shape)"
   ]
  },
  {
   "cell_type": "code",
   "execution_count": 21,
   "id": "c017315c",
   "metadata": {},
   "outputs": [
    {
     "name": "stdout",
     "output_type": "stream",
     "text": [
      "tensor([1, 1, 1, 1, 1, 1, 1, 1, 1]) torch.Size([9])\n"
     ]
    }
   ],
   "source": [
    "x = x.squeeze()\n",
    "print(x,x.shape)"
   ]
  },
  {
   "cell_type": "code",
   "execution_count": 29,
   "id": "2a9c0040",
   "metadata": {},
   "outputs": [
    {
     "name": "stdout",
     "output_type": "stream",
     "text": [
      "tensor([[[[[[[[[[[[[[1, 1, 1, 1, 1, 1, 1, 1, 1]]]]]]]]]]]]]]) torch.Size([1, 1, 1, 1, 1, 1, 1, 1, 1, 1, 1, 1, 1, 9])\n"
     ]
    }
   ],
   "source": [
    "x = x.unsqueeze(dim=0)\n",
    "x = x.unsqueeze(dim=0)\n",
    "print(x,x.shape)"
   ]
  },
  {
   "cell_type": "code",
   "execution_count": null,
   "id": "57056145",
   "metadata": {},
   "outputs": [],
   "source": []
  }
 ],
 "metadata": {
  "kernelspec": {
   "display_name": "Python 3 (ipykernel)",
   "language": "python",
   "name": "python3"
  },
  "language_info": {
   "codemirror_mode": {
    "name": "ipython",
    "version": 3
   },
   "file_extension": ".py",
   "mimetype": "text/x-python",
   "name": "python",
   "nbconvert_exporter": "python",
   "pygments_lexer": "ipython3",
   "version": "3.9.5"
  }
 },
 "nbformat": 4,
 "nbformat_minor": 5
}
